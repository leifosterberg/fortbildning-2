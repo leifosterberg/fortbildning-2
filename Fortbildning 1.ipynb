{
 "cells": [
  {
   "cell_type": "markdown",
   "id": "291f4ae3",
   "metadata": {},
   "source": [
    "#Rubrik"
   ]
  },
  {
   "cell_type": "markdown",
   "id": "6600c1e7",
   "metadata": {},
   "source": [
    "# Rubrik"
   ]
  },
  {
   "cell_type": "markdown",
   "id": "3631ce80",
   "metadata": {},
   "source": [
    "**bold**"
   ]
  },
  {
   "cell_type": "markdown",
   "id": "2bcaad4c",
   "metadata": {},
   "source": [
    "[sökmotor](http://google.com)"
   ]
  },
  {
   "cell_type": "code",
   "execution_count": 1,
   "id": "e234575d",
   "metadata": {},
   "outputs": [
    {
     "name": "stdout",
     "output_type": "stream",
     "text": [
      "hej\n"
     ]
    }
   ],
   "source": [
    "print(\"hej\")"
   ]
  },
  {
   "cell_type": "code",
   "execution_count": 2,
   "id": "1e494ab5",
   "metadata": {},
   "outputs": [],
   "source": [
    "# kommentar, räknas inte till koden"
   ]
  },
  {
   "cell_type": "code",
   "execution_count": 3,
   "id": "6bcd0e67",
   "metadata": {},
   "outputs": [
    {
     "name": "stdout",
     "output_type": "stream",
     "text": [
      "10\n"
     ]
    }
   ],
   "source": [
    "# variabler, tilldelar värden\n",
    "a=3\n",
    "dvargar=7\n",
    "print(a+dvargar)"
   ]
  },
  {
   "cell_type": "code",
   "execution_count": 4,
   "id": "2b90fe37",
   "metadata": {},
   "outputs": [
    {
     "data": {
      "text/plain": [
       "343"
      ]
     },
     "execution_count": 4,
     "metadata": {},
     "output_type": "execute_result"
    }
   ],
   "source": [
    "7**3"
   ]
  },
  {
   "cell_type": "code",
   "execution_count": 5,
   "id": "8b71e594",
   "metadata": {},
   "outputs": [],
   "source": [
    "# funktionspaket\n",
    "import numpy\n"
   ]
  },
  {
   "cell_type": "code",
   "execution_count": 7,
   "id": "4b5fe838",
   "metadata": {},
   "outputs": [
    {
     "data": {
      "text/plain": [
       "3.141592653589793"
      ]
     },
     "execution_count": 7,
     "metadata": {},
     "output_type": "execute_result"
    }
   ],
   "source": [
    "numpy.pi"
   ]
  },
  {
   "cell_type": "code",
   "execution_count": 8,
   "id": "8b2dd216",
   "metadata": {},
   "outputs": [],
   "source": [
    "import numpy as np"
   ]
  },
  {
   "cell_type": "code",
   "execution_count": 9,
   "id": "b0b174c6",
   "metadata": {},
   "outputs": [
    {
     "data": {
      "text/plain": [
       "3.141592653589793"
      ]
     },
     "execution_count": 9,
     "metadata": {},
     "output_type": "execute_result"
    }
   ],
   "source": [
    "np.pi"
   ]
  },
  {
   "cell_type": "code",
   "execution_count": 10,
   "id": "c0598425",
   "metadata": {},
   "outputs": [],
   "source": [
    "lista=[1,3,5,7,10]"
   ]
  },
  {
   "cell_type": "code",
   "execution_count": 11,
   "id": "ec52afb3",
   "metadata": {},
   "outputs": [
    {
     "name": "stdout",
     "output_type": "stream",
     "text": [
      "[1, 3, 5, 7, 10]\n"
     ]
    }
   ],
   "source": [
    "print(lista)"
   ]
  },
  {
   "cell_type": "code",
   "execution_count": 12,
   "id": "0aee8144",
   "metadata": {},
   "outputs": [
    {
     "data": {
      "text/plain": [
       "5.2"
      ]
     },
     "execution_count": 12,
     "metadata": {},
     "output_type": "execute_result"
    }
   ],
   "source": [
    "np.mean(lista) # ger medelvärdet"
   ]
  },
  {
   "cell_type": "markdown",
   "id": "3527f0c1",
   "metadata": {},
   "source": [
    "[webbsidan](https://indico.cern.ch/event/1093016/ 9"
   ]
  },
  {
   "cell_type": "code",
   "execution_count": 13,
   "id": "37c1ce29",
   "metadata": {},
   "outputs": [
    {
     "name": "stderr",
     "output_type": "stream",
     "text": [
      "'[bild]' is not recognized as an internal or external command,\n",
      "operable program or batch file.\n"
     ]
    }
   ],
   "source": [
    "####bild\n",
    "![bild] # sätter in bilden"
   ]
  },
  {
   "cell_type": "code",
   "execution_count": 14,
   "id": "89e1871d",
   "metadata": {},
   "outputs": [
    {
     "name": "stderr",
     "output_type": "stream",
     "text": [
      "'[bild]' is not recognized as an internal or external command,\n",
      "operable program or batch file.\n",
      "'[bild]' is not recognized as an internal or external command,\n",
      "operable program or batch file.\n"
     ]
    }
   ],
   "source": [
    "![bild](logo.png) # om bilden finns i mappen\n",
    "![bild](0509_001.jpg)"
   ]
  },
  {
   "cell_type": "markdown",
   "id": "6f250e08",
   "metadata": {},
   "source": [
    "![bild](0509_001.jpg)"
   ]
  },
  {
   "cell_type": "markdown",
   "id": "4ddb6bdb",
   "metadata": {},
   "source": [
    "$latex$ mitt istycke medan $$latex$$ ger centrerat"
   ]
  },
  {
   "cell_type": "markdown",
   "id": "cc737fdd",
   "metadata": {},
   "source": [
    "$latex$ #mitt i stycke\n",
    "$$latex$$ ger centrerat, koder via omvandlare"
   ]
  },
  {
   "cell_type": "code",
   "execution_count": null,
   "id": "d299d147",
   "metadata": {},
   "outputs": [],
   "source": [
    "man kan sätta in bild med kommandot ''![](länk)''"
   ]
  },
  {
   "cell_type": "markdown",
   "id": "e86497eb",
   "metadata": {},
   "source": [
    "man kan skriva pythonkod\n",
    "gröna ger jypyterkommando och orange ger phyton"
   ]
  },
  {
   "cell_type": "code",
   "execution_count": 1,
   "id": "b9064c0f",
   "metadata": {},
   "outputs": [],
   "source": [
    "import pandas as pd"
   ]
  },
  {
   "cell_type": "code",
   "execution_count": 2,
   "id": "bc657036",
   "metadata": {},
   "outputs": [],
   "source": [
    "data=pd.read_csv(\"flygstation2021.csv\")"
   ]
  },
  {
   "cell_type": "code",
   "execution_count": 6,
   "id": "5524cb8d",
   "metadata": {},
   "outputs": [
    {
     "data": {
      "text/html": [
       "<div>\n",
       "<style scoped>\n",
       "    .dataframe tbody tr th:only-of-type {\n",
       "        vertical-align: middle;\n",
       "    }\n",
       "\n",
       "    .dataframe tbody tr th {\n",
       "        vertical-align: top;\n",
       "    }\n",
       "\n",
       "    .dataframe thead th {\n",
       "        text-align: right;\n",
       "    }\n",
       "</style>\n",
       "<table border=\"1\" class=\"dataframe\">\n",
       "  <thead>\n",
       "    <tr style=\"text-align: right;\">\n",
       "      <th></th>\n",
       "      <th>Vuosi</th>\n",
       "      <th>Kk</th>\n",
       "      <th>Pv</th>\n",
       "      <th>Klo</th>\n",
       "      <th>Aikavyöhyke</th>\n",
       "      <th>Kuukauden sadesumma (mm)</th>\n",
       "      <th>Kuukauden keskilämpötila (degC)</th>\n",
       "    </tr>\n",
       "  </thead>\n",
       "  <tbody>\n",
       "    <tr>\n",
       "      <th>0</th>\n",
       "      <td>2021</td>\n",
       "      <td>1</td>\n",
       "      <td>1</td>\n",
       "      <td>00:00</td>\n",
       "      <td>UTC</td>\n",
       "      <td>NaN</td>\n",
       "      <td>-5.4</td>\n",
       "    </tr>\n",
       "    <tr>\n",
       "      <th>1</th>\n",
       "      <td>2021</td>\n",
       "      <td>2</td>\n",
       "      <td>1</td>\n",
       "      <td>00:00</td>\n",
       "      <td>UTC</td>\n",
       "      <td>NaN</td>\n",
       "      <td>-8.6</td>\n",
       "    </tr>\n",
       "    <tr>\n",
       "      <th>2</th>\n",
       "      <td>2021</td>\n",
       "      <td>3</td>\n",
       "      <td>1</td>\n",
       "      <td>00:00</td>\n",
       "      <td>UTC</td>\n",
       "      <td>NaN</td>\n",
       "      <td>-1.0</td>\n",
       "    </tr>\n",
       "    <tr>\n",
       "      <th>3</th>\n",
       "      <td>2021</td>\n",
       "      <td>4</td>\n",
       "      <td>1</td>\n",
       "      <td>00:00</td>\n",
       "      <td>UTC</td>\n",
       "      <td>NaN</td>\n",
       "      <td>2.8</td>\n",
       "    </tr>\n",
       "    <tr>\n",
       "      <th>4</th>\n",
       "      <td>2021</td>\n",
       "      <td>5</td>\n",
       "      <td>1</td>\n",
       "      <td>00:00</td>\n",
       "      <td>UTC</td>\n",
       "      <td>NaN</td>\n",
       "      <td>8.0</td>\n",
       "    </tr>\n",
       "  </tbody>\n",
       "</table>\n",
       "</div>"
      ],
      "text/plain": [
       "   Vuosi  Kk  Pv    Klo Aikavyöhyke  Kuukauden sadesumma (mm)  \\\n",
       "0   2021   1   1  00:00         UTC                       NaN   \n",
       "1   2021   2   1  00:00         UTC                       NaN   \n",
       "2   2021   3   1  00:00         UTC                       NaN   \n",
       "3   2021   4   1  00:00         UTC                       NaN   \n",
       "4   2021   5   1  00:00         UTC                       NaN   \n",
       "\n",
       "   Kuukauden keskilämpötila (degC)  \n",
       "0                             -5.4  \n",
       "1                             -8.6  \n",
       "2                             -1.0  \n",
       "3                              2.8  \n",
       "4                              8.0  "
      ]
     },
     "execution_count": 6,
     "metadata": {},
     "output_type": "execute_result"
    }
   ],
   "source": [
    "flygstation=pd.read_csv(\"flygstation2021.csv\")\n",
    "flygstation.head()\n"
   ]
  },
  {
   "cell_type": "code",
   "execution_count": 3,
   "id": "fbea4bef",
   "metadata": {},
   "outputs": [],
   "source": [
    "#för att rita grafer\n",
    "import matplotlib.pyplot as plt\n",
    "flygstation.columns()"
   ]
  },
  {
   "cell_type": "code",
   "execution_count": 9,
   "id": "0dd1c4e8",
   "metadata": {},
   "outputs": [
    {
     "data": {
      "text/plain": [
       "[<matplotlib.lines.Line2D at 0x23172761a60>]"
      ]
     },
     "execution_count": 9,
     "metadata": {},
     "output_type": "execute_result"
    },
    {
     "data": {
      "image/png": "[encoded data removed]",
      "text/plain": [
       "<Figure size 432x288 with 1 Axes>"
      ]
     },
     "metadata": {
      "needs_background": "light"
     },
     "output_type": "display_data"
    }
   ],
   "source": [
    "#först grafen\n",
    "# plt.plot(xlista,ylista)\n",
    "plt.plot(flygstation['Kk'],flygstation['Kuukauden keskilämpötila (degC)'])"
   ]
  },
  {
   "cell_type": "code",
   "execution_count": null,
   "id": "550807f8",
   "metadata": {},
   "outputs": [],
   "source": []
  }
 ],
 "metadata": {
  "kernelspec": {
   "display_name": "Python 3",
   "language": "python",
   "name": "python3"
  },
  "language_info": {
   "codemirror_mode": {
    "name": "ipython",
    "version": 3
   },
   "file_extension": ".py",
   "mimetype": "text/x-python",
   "name": "python",
   "nbconvert_exporter": "python",
   "pygments_lexer": "ipython3",
   "version": "3.8.8"
  }
 },
 "nbformat": 4,
 "nbformat_minor": 5
}
